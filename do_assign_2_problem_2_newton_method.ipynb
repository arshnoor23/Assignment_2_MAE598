{
  "nbformat": 4,
  "nbformat_minor": 0,
  "metadata": {
    "colab": {
      "provenance": [],
      "authorship_tag": "ABX9TyP2yXbhQS9YEzPAPxwaKv3B",
      "include_colab_link": true
    },
    "kernelspec": {
      "name": "python3",
      "display_name": "Python 3"
    },
    "language_info": {
      "name": "python"
    }
  },
  "cells": [
    {
      "cell_type": "markdown",
      "metadata": {
        "id": "view-in-github",
        "colab_type": "text"
      },
      "source": [
        "<a href=\"https://colab.research.google.com/github/arshnoor23/Assignment_2_MAE598/blob/main/do_assign_2_problem_2_newton_method.ipynb\" target=\"_parent\"><img src=\"https://colab.research.google.com/assets/colab-badge.svg\" alt=\"Open In Colab\"/></a>"
      ]
    },
    {
      "cell_type": "markdown",
      "source": [
        "**Homework-2: Problem-2 Newtons method**\n",
        "\n",
        "**Arshnoor Singh Sachdeva**\n",
        "\n",
        "1222482300\n"
      ],
      "metadata": {
        "id": "gQ8jN1MmJpjE"
      }
    },
    {
      "cell_type": "code",
      "execution_count": null,
      "metadata": {
        "id": "wiN2jhV1vpR5"
      },
      "outputs": [],
      "source": [
        "import numpy as np"
      ]
    },
    {
      "cell_type": "code",
      "source": [
        "# Parametrs for the Gradient Descent (Inexact line search algorithm)\n",
        "def f_calculator(alpha,x2,x3):\n",
        "  t = 0.4\n",
        "  H = ([10,12],[12,20])\n",
        "  H_inv = np.linalg.inv(H)\n",
        "  obj = objective(x2,x3)\n",
        "  grad = gradient(x2,x3)\n",
        "  # print(grad)\n",
        "  f_alpha_grad= 5*((x2-alpha*grad[0][0])**2) + 10*((x3 - alpha*grad[1][0])**2) + 12*(x2-alpha*grad[0][0])*(x3 - alpha*grad[1][0]) - 14*(x3 - alpha*grad[1][0]) - 8*(x2-alpha*grad[0][0]) + 5\n",
        "  # phi = obj - t*(np.linalg.norm(grad)**2)*alpha\n",
        "  phi = obj - t*(np.linalg.norm(grad)**2)*alpha\n",
        "  return (f_alpha_grad-phi)     \n",
        "\n",
        "def gradient(x2,x3):\n",
        "  return ([10*x2 + 12*x3 - 8],\n",
        "          [12*x2 + 20*x3 - 14])       \n",
        "\n",
        "def objective(x2,x3):\n",
        "  return 5*(x2**2) + 10*(x3**2) + 12*x2*x3 - 14*x3 - 8*x2 + 5     \n",
        "\n",
        "def inexact_line_search(alpha,x2,x3):\n",
        "  count = 0\n",
        "  while count<1000:\n",
        "    s = f_calculator(alpha,x2,x3)\n",
        "    # print(s)\n",
        "    if s>0:\n",
        "      alpha = alpha*0.5\n",
        "      count = count+1 \n",
        "    else:\n",
        "      # print(\"Not converging\")\n",
        "      break\n",
        "  return alpha"
      ],
      "metadata": {
        "id": "aumf3tMRJt-5"
      },
      "execution_count": null,
      "outputs": []
    },
    {
      "cell_type": "code",
      "source": [
        "x2 = 0\n",
        "x3 = 0\n",
        "\n",
        "tol = 0.0001\n",
        "grad = gradient(x2,x3)\n",
        "grad_norm = np.linalg.norm(grad)\n",
        "H = ([10,12],[12,20])\n",
        "\n",
        "count = 0\n",
        "while grad_norm>tol and count<1000:\n",
        "  alpha = 1\n",
        "  alpha = inexact_line_search(alpha,x2,x3)\n",
        "  # print(x2,x3)\n",
        "  dx = (np.matmul(np.linalg.inv(H),grad))\n",
        "  x2 = x2 - alpha*dx[0][0]\n",
        "  x3 = x3 - alpha*dx[1][0]\n",
        "  grad = gradient(x2,x3)\n",
        "  grad_norm = np.linalg.norm(grad)\n",
        "  count = count + 1\n",
        "\n",
        "x1 = 1-2*x2-3*x3\n",
        "print(x1,x2,x3)\n",
        "\n",
        "d = (x1+1)**2 + x2**2 + (x3-1)**2\n",
        "print(\"Minimum Distance: \",np.sqrt(d))\n",
        "\n",
        "\n",
        "\n"
      ],
      "metadata": {
        "colab": {
          "base_uri": "https://localhost:8080/"
        },
        "id": "VVl-uBpuJvnF",
        "outputId": "69ad71c8-386d-49f9-ccbe-3d6ce3e75ef9"
      },
      "execution_count": null,
      "outputs": [
        {
          "output_type": "stream",
          "name": "stdout",
          "text": [
            "-1.0714158569537338 -0.1428562659968093 0.7857094629824508\n",
            "Minimum Distance:  0.26726124225981013\n"
          ]
        }
      ]
    }
  ]
}