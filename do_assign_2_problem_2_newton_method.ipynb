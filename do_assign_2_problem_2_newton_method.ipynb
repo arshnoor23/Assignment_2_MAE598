{
  "nbformat": 4,
  "nbformat_minor": 0,
  "metadata": {
    "colab": {
      "provenance": [],
      "authorship_tag": "ABX9TyPvsMYADR0KaNNoX5sY9+9H",
      "include_colab_link": true
    },
    "kernelspec": {
      "name": "python3",
      "display_name": "Python 3"
    },
    "language_info": {
      "name": "python"
    }
  },
  "cells": [
    {
      "cell_type": "markdown",
      "metadata": {
        "id": "view-in-github",
        "colab_type": "text"
      },
      "source": [
        "<a href=\"https://colab.research.google.com/github/arshnoor23/Assignment_2_MAE598/blob/main/do_assign_2_problem_2_newton_method.ipynb\" target=\"_parent\"><img src=\"https://colab.research.google.com/assets/colab-badge.svg\" alt=\"Open In Colab\"/></a>"
      ]
    },
    {
      "cell_type": "markdown",
      "source": [
        "**Homework-2: Problem-2 Newtons method**\n",
        "\n",
        "**Arshnoor Singh Sachdeva**\n",
        "\n",
        "1222482300\n"
      ],
      "metadata": {
        "id": "gQ8jN1MmJpjE"
      }
    },
    {
      "cell_type": "code",
      "execution_count": 1,
      "metadata": {
        "id": "wiN2jhV1vpR5"
      },
      "outputs": [],
      "source": [
        "import numpy as np\n",
        "import matplotlib.pyplot as plt"
      ]
    },
    {
      "cell_type": "code",
      "source": [
        "def gradient(x2,x3):\n",
        "  return ([10*x2 + 12*x3 - 8],\n",
        "          [12*x2 + 20*x3 - 14])       "
      ],
      "metadata": {
        "id": "aumf3tMRJt-5"
      },
      "execution_count": 2,
      "outputs": []
    },
    {
      "cell_type": "code",
      "source": [
        "x2 = 0\n",
        "x3 = 0\n",
        "\n",
        "tol = 0.0001\n",
        "grad = gradient(x2,x3)\n",
        "grad_norm = np.linalg.norm(grad)\n",
        "H = ([10,12],[12,20])\n",
        "H_inv = np.linalg.inv(H)\n",
        "\n",
        "count = 0\n",
        "c = [count]\n",
        "error = [grad_norm]\n",
        "while grad_norm>tol and count<100:\n",
        "  dx = np.matmul(H_inv,grad)\n",
        "  x2 = x2 - dx[0][0]\n",
        "  x3 = x3 - dx[1][0]\n",
        "  grad = gradient(x2,x3)\n",
        "  grad_norm = np.linalg.norm(grad)\n",
        "  error.append(grad_norm)\n",
        "  count = count + 1\n",
        "  c.append(count)\n",
        "\n",
        "print(\"=====================================\")\n",
        "print(f'Initial guess is \\n x1:1 , x2:0 , x3:0')\n",
        "print(\"=====================================\")\n",
        "x1 = 1-2*x2-3*x3\n",
        "print(f'Nearest point to the plane is \\n x1:{x1},x2:{x2},x3:{x3}')\n",
        "d = (x1+1)**2 + x2**2 + (x3-1)**2\n",
        "print(\"=====================================\")\n",
        "print(\"Minimum Distance: \",np.sqrt(d)) \n",
        "print(\"=====================================\")\n",
        "plt.plot(c,error)\n",
        "plt.yscale(\"log\")\n",
        "plt.title(\"Convergence plot Newton's Method\")\n",
        "plt.xlabel(\"Iterations\")\n",
        "plt.ylabel(\"log(error)\")"
      ],
      "metadata": {
        "colab": {
          "base_uri": "https://localhost:8080/",
          "height": 469
        },
        "id": "oFJMM7jz38PA",
        "outputId": "59a297b5-0944-4972-d1d7-9574cad511fb"
      },
      "execution_count": 15,
      "outputs": [
        {
          "output_type": "stream",
          "name": "stdout",
          "text": [
            "=====================================\n",
            "Initial guess is \n",
            " x1:1 , x2:0 , x3:0\n",
            "=====================================\n",
            "Nearest point to the plane is \n",
            " x1:-1.071428571428572,x2:-0.1428571428571428,x3:0.7857142857142858\n",
            "=====================================\n",
            "Minimum Distance:  0.26726124191242445\n",
            "=====================================\n"
          ]
        },
        {
          "output_type": "execute_result",
          "data": {
            "text/plain": [
              "Text(0, 0.5, 'log(error)')"
            ]
          },
          "metadata": {},
          "execution_count": 15
        },
        {
          "output_type": "display_data",
          "data": {
            "text/plain": [
              "<Figure size 432x288 with 1 Axes>"
            ],
            "image/png": "[encoded data removed]"
          },
          "metadata": {
            "needs_background": "light"
          }
        }
      ]
    }
  ]
}