{
  "nbformat": 4,
  "nbformat_minor": 0,
  "metadata": {
    "colab": {
      "provenance": [],
      "collapsed_sections": [],
      "authorship_tag": "ABX9TyNu/s6fMLCQOYn3vy1mJxnD",
      "include_colab_link": true
    },
    "kernelspec": {
      "name": "python3",
      "display_name": "Python 3"
    },
    "language_info": {
      "name": "python"
    }
  },
  "cells": [
    {
      "cell_type": "markdown",
      "metadata": {
        "id": "view-in-github",
        "colab_type": "text"
      },
      "source": [
        "<a href=\"https://colab.research.google.com/github/arshnoor23/Assignment_2_MAE598/blob/main/do_assign_2_problem_2_grad_descent.ipynb\" target=\"_parent\"><img src=\"https://colab.research.google.com/assets/colab-badge.svg\" alt=\"Open In Colab\"/></a>"
      ]
    },
    {
      "cell_type": "markdown",
      "source": [
        "**Homework-2: Problem-2 Gradient Descent**\n",
        "\n",
        "**Arshnoor Singh Sachdeva**\n",
        "\n",
        "1222482300\n"
      ],
      "metadata": {
        "id": "rA6qQXHVCfum"
      }
    },
    {
      "cell_type": "code",
      "execution_count": 2,
      "metadata": {
        "id": "oDrWnbOAlwpv"
      },
      "outputs": [],
      "source": [
        "import numpy as np\n",
        "import matplotlib.pyplot as plt"
      ]
    },
    {
      "cell_type": "code",
      "source": [
        "# Parametrs for the Gradient Descent (Inexact line search algorithm)\n",
        "def f_calculator(alpha,x2,x3):\n",
        "  t = 0.4\n",
        "  obj = objective(x2,x3)\n",
        "  grad = gradient(x2,x3)\n",
        "  # print(grad)\n",
        "  f_alpha_grad= 5*((x2-alpha*grad[0][0])**2) + 10*((x3 - alpha*grad[1][0])**2) + 12*(x2-alpha*grad[0][0])*(x3 - alpha*grad[1][0]) - 14*(x3 - alpha*grad[1][0]) - 8*(x2-alpha*grad[0][0]) + 5\n",
        "  phi = obj - t*(np.linalg.norm(grad)**2)*alpha\n",
        "  # phi = obj - t*np.matmul(np.transpose(grad),grad)*alpha\n",
        "  return (f_alpha_grad-phi)     \n",
        "\n",
        "def gradient(x2,x3):\n",
        "  return ([10*x2 + 12*x3 - 8],\n",
        "          [12*x2 + 20*x3 - 14])       \n",
        "\n",
        "def objective(x2,x3):\n",
        "  return 5*(x2**2) + 10*(x3**2) + 12*x2*x3 - 14*x3 - 8*x2 + 5     \n",
        "\n",
        "def inexact_line_search(alpha,x2,x3):\n",
        "  count = 0\n",
        "  while count<1000:\n",
        "    s = f_calculator(alpha,x2,x3)\n",
        "    # print(s)\n",
        "    if s>0:\n",
        "      alpha = alpha*0.5\n",
        "      count = count+1 \n",
        "    else:\n",
        "      # print(\"Not converging\")\n",
        "      break\n",
        "  return alpha"
      ],
      "metadata": {
        "id": "N46F3M-3DSOQ"
      },
      "execution_count": 3,
      "outputs": []
    },
    {
      "cell_type": "code",
      "source": [
        "x2 = 0\n",
        "x3 = 0\n",
        "\n",
        "tol = 0.0001\n",
        "grad = gradient(x2,x3)\n",
        "grad_norm = np.linalg.norm(grad)\n",
        "\n",
        "count = 0\n",
        "c = [count]\n",
        "error = [grad_norm]\n",
        "while grad_norm>tol and count<100:\n",
        "  alpha = 1\n",
        "  alpha = inexact_line_search(alpha,x2,x3)\n",
        "  # print(x2,x3)\n",
        "  x2 = x2 - alpha*grad[0][0]\n",
        "  x3 = x3 - alpha*grad[1][0]\n",
        "  grad = gradient(x2,x3)\n",
        "  grad_norm = np.linalg.norm(grad)\n",
        "  error.append(grad_norm)\n",
        "  count = count + 1\n",
        "  c.append(count)\n",
        "\n",
        "x1 = 1-2*x2-3*x3\n",
        "print(f'x1:{x1},x2:{x2},x3:{x3}')\n",
        "\n",
        "d = (x1+1)**2 + x2**2 + (x3-1)**2\n",
        "print(\"Minimum Distance: \",np.sqrt(d))\n",
        "\n",
        "plt.plot(c,error)\n",
        "plt.yscale(\"log\")\n",
        "\n"
      ],
      "metadata": {
        "colab": {
          "base_uri": "https://localhost:8080/",
          "height": 300
        },
        "id": "708yiJcrEr7K",
        "outputId": "90b92691-d41c-4310-8c41-54a6e825e6e6"
      },
      "execution_count": 4,
      "outputs": [
        {
          "output_type": "stream",
          "name": "stdout",
          "text": [
            "x1:-1.0714258829417167,x2:-0.14283782285325233,x3:0.7857005095494072\n",
            "Minimum Distance:  0.26726124297930787\n"
          ]
        },
        {
          "output_type": "display_data",
          "data": {
            "text/plain": [
              "<Figure size 432x288 with 1 Axes>"
            ],
            "image/png": "[encoded data removed]"
          },
          "metadata": {
            "needs_background": "light"
          }
        }
      ]
    }
  ]
}